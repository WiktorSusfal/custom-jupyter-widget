{
 "cells": [
  {
   "cell_type": "code",
   "execution_count": 1,
   "id": "37947aed",
   "metadata": {},
   "outputs": [
    {
     "data": {
      "application/vnd.jupyter.widget-view+json": {
       "model_id": "ba6b6e61a0a140fbab4bdcc39e239c40",
       "version_major": 2,
       "version_minor": 0
      },
      "text/plain": [
       "MainView(children=(SampleView(children=(Label(value='View created from predefined ipywidgets'), Text(value='',…"
      ]
     },
     "metadata": {},
     "output_type": "display_data"
    }
   ],
   "source": [
    "from IPython.display import display\n",
    "from lib.views.main_view import MainView\n",
    "\n",
    "mv = MainView()\n",
    "display(mv)"
   ]
  },
  {
   "cell_type": "code",
   "execution_count": null,
   "id": "a947b27e-1aa7-4524-8fd6-3f50698df490",
   "metadata": {},
   "outputs": [],
   "source": []
  }
 ],
 "metadata": {
  "kernelspec": {
   "display_name": "Python 3 (ipykernel)",
   "language": "python",
   "name": "python3"
  },
  "language_info": {
   "codemirror_mode": {
    "name": "ipython",
    "version": 3
   },
   "file_extension": ".py",
   "mimetype": "text/x-python",
   "name": "python",
   "nbconvert_exporter": "python",
   "pygments_lexer": "ipython3",
   "version": "3.10.2"
  }
 },
 "nbformat": 4,
 "nbformat_minor": 5
}
